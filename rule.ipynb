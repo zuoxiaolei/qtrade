{
 "cells": [
  {
   "cell_type": "code",
   "execution_count": 1,
   "metadata": {},
   "outputs": [],
   "source": [
    "import pandas as pd"
   ]
  },
  {
   "cell_type": "code",
   "execution_count": 2,
   "metadata": {},
   "outputs": [],
   "source": [
    "from src.qtrade.mysql_util import *"
   ]
  },
  {
   "cell_type": "code",
   "execution_count": 3,
   "metadata": {},
   "outputs": [],
   "source": [
    "with get_connection() as cursor:\n",
    "    sql = f'''\n",
    "    select code, date, close, lag(close, 1) over(partition by code order by date)\n",
    "    from etf.ods_etf_history\n",
    "    order by code, date\n",
    "    '''\n",
    "    cursor.execute(sql)\n",
    "    data = cursor.fetchall()"
   ]
  },
  {
   "cell_type": "code",
   "execution_count": 4,
   "metadata": {},
   "outputs": [],
   "source": [
    "df = pd.DataFrame(data, columns=['code', 'date', 'close', 'close_1'])"
   ]
  },
  {
   "cell_type": "code",
   "execution_count": 6,
   "metadata": {},
   "outputs": [
    {
     "data": {
      "text/html": [
       "<div>\n",
       "<style scoped>\n",
       "    .dataframe tbody tr th:only-of-type {\n",
       "        vertical-align: middle;\n",
       "    }\n",
       "\n",
       "    .dataframe tbody tr th {\n",
       "        vertical-align: top;\n",
       "    }\n",
       "\n",
       "    .dataframe thead th {\n",
       "        text-align: right;\n",
       "    }\n",
       "</style>\n",
       "<table border=\"1\" class=\"dataframe\">\n",
       "  <thead>\n",
       "    <tr style=\"text-align: right;\">\n",
       "      <th></th>\n",
       "      <th>code</th>\n",
       "      <th>date</th>\n",
       "      <th>close</th>\n",
       "      <th>close_1</th>\n",
       "    </tr>\n",
       "  </thead>\n",
       "  <tbody>\n",
       "    <tr>\n",
       "      <th>757315</th>\n",
       "      <td>588900</td>\n",
       "      <td>2024-05-27</td>\n",
       "      <td>0.788</td>\n",
       "      <td>0.779</td>\n",
       "    </tr>\n",
       "    <tr>\n",
       "      <th>757316</th>\n",
       "      <td>588900</td>\n",
       "      <td>2024-05-28</td>\n",
       "      <td>0.782</td>\n",
       "      <td>0.788</td>\n",
       "    </tr>\n",
       "    <tr>\n",
       "      <th>757317</th>\n",
       "      <td>588900</td>\n",
       "      <td>2024-05-29</td>\n",
       "      <td>0.779</td>\n",
       "      <td>0.782</td>\n",
       "    </tr>\n",
       "    <tr>\n",
       "      <th>757318</th>\n",
       "      <td>588900</td>\n",
       "      <td>2024-05-30</td>\n",
       "      <td>0.785</td>\n",
       "      <td>0.779</td>\n",
       "    </tr>\n",
       "    <tr>\n",
       "      <th>757319</th>\n",
       "      <td>588900</td>\n",
       "      <td>2024-05-31</td>\n",
       "      <td>0.790</td>\n",
       "      <td>0.785</td>\n",
       "    </tr>\n",
       "  </tbody>\n",
       "</table>\n",
       "</div>"
      ],
      "text/plain": [
       "          code        date  close  close_1\n",
       "757315  588900  2024-05-27  0.788    0.779\n",
       "757316  588900  2024-05-28  0.782    0.788\n",
       "757317  588900  2024-05-29  0.779    0.782\n",
       "757318  588900  2024-05-30  0.785    0.779\n",
       "757319  588900  2024-05-31  0.790    0.785"
      ]
     },
     "execution_count": 6,
     "metadata": {},
     "output_type": "execute_result"
    }
   ],
   "source": [
    "df.tail()"
   ]
  },
  {
   "cell_type": "code",
   "execution_count": 7,
   "metadata": {},
   "outputs": [
    {
     "data": {
      "text/plain": [
       "(757320, 4)"
      ]
     },
     "execution_count": 7,
     "metadata": {},
     "output_type": "execute_result"
    }
   ],
   "source": [
    "df.shape"
   ]
  },
  {
   "cell_type": "code",
   "execution_count": 8,
   "metadata": {},
   "outputs": [],
   "source": [
    "df.to_parquet(\"etf.parquet\")"
   ]
  },
  {
   "cell_type": "code",
   "execution_count": 9,
   "metadata": {},
   "outputs": [],
   "source": [
    "df = df.dropna()"
   ]
  },
  {
   "cell_type": "code",
   "execution_count": 11,
   "metadata": {},
   "outputs": [
    {
     "data": {
      "text/html": [
       "<div>\n",
       "<style scoped>\n",
       "    .dataframe tbody tr th:only-of-type {\n",
       "        vertical-align: middle;\n",
       "    }\n",
       "\n",
       "    .dataframe tbody tr th {\n",
       "        vertical-align: top;\n",
       "    }\n",
       "\n",
       "    .dataframe thead th {\n",
       "        text-align: right;\n",
       "    }\n",
       "</style>\n",
       "<table border=\"1\" class=\"dataframe\">\n",
       "  <thead>\n",
       "    <tr style=\"text-align: right;\">\n",
       "      <th></th>\n",
       "      <th>code</th>\n",
       "      <th>date</th>\n",
       "      <th>close</th>\n",
       "      <th>close_1</th>\n",
       "    </tr>\n",
       "  </thead>\n",
       "  <tbody>\n",
       "    <tr>\n",
       "      <th>1</th>\n",
       "      <td>159150</td>\n",
       "      <td>2023-12-12</td>\n",
       "      <td>1.004</td>\n",
       "      <td>1.000</td>\n",
       "    </tr>\n",
       "    <tr>\n",
       "      <th>2</th>\n",
       "      <td>159150</td>\n",
       "      <td>2023-12-13</td>\n",
       "      <td>0.986</td>\n",
       "      <td>1.004</td>\n",
       "    </tr>\n",
       "    <tr>\n",
       "      <th>3</th>\n",
       "      <td>159150</td>\n",
       "      <td>2023-12-14</td>\n",
       "      <td>0.979</td>\n",
       "      <td>0.986</td>\n",
       "    </tr>\n",
       "    <tr>\n",
       "      <th>4</th>\n",
       "      <td>159150</td>\n",
       "      <td>2023-12-15</td>\n",
       "      <td>0.979</td>\n",
       "      <td>0.979</td>\n",
       "    </tr>\n",
       "    <tr>\n",
       "      <th>5</th>\n",
       "      <td>159150</td>\n",
       "      <td>2023-12-18</td>\n",
       "      <td>0.970</td>\n",
       "      <td>0.979</td>\n",
       "    </tr>\n",
       "  </tbody>\n",
       "</table>\n",
       "</div>"
      ],
      "text/plain": [
       "     code        date  close  close_1\n",
       "1  159150  2023-12-12  1.004    1.000\n",
       "2  159150  2023-12-13  0.986    1.004\n",
       "3  159150  2023-12-14  0.979    0.986\n",
       "4  159150  2023-12-15  0.979    0.979\n",
       "5  159150  2023-12-18  0.970    0.979"
      ]
     },
     "execution_count": 11,
     "metadata": {},
     "output_type": "execute_result"
    }
   ],
   "source": [
    "df.head()"
   ]
  },
  {
   "cell_type": "code",
   "execution_count": 13,
   "metadata": {},
   "outputs": [],
   "source": [
    "df[\"increase_rate\"] = df[\"close\"]/df[\"close_1\"]-1"
   ]
  },
  {
   "cell_type": "code",
   "execution_count": 14,
   "metadata": {},
   "outputs": [
    {
     "data": {
      "text/html": [
       "<div>\n",
       "<style scoped>\n",
       "    .dataframe tbody tr th:only-of-type {\n",
       "        vertical-align: middle;\n",
       "    }\n",
       "\n",
       "    .dataframe tbody tr th {\n",
       "        vertical-align: top;\n",
       "    }\n",
       "\n",
       "    .dataframe thead th {\n",
       "        text-align: right;\n",
       "    }\n",
       "</style>\n",
       "<table border=\"1\" class=\"dataframe\">\n",
       "  <thead>\n",
       "    <tr style=\"text-align: right;\">\n",
       "      <th></th>\n",
       "      <th>code</th>\n",
       "      <th>date</th>\n",
       "      <th>close</th>\n",
       "      <th>close_1</th>\n",
       "      <th>increase_rate</th>\n",
       "    </tr>\n",
       "  </thead>\n",
       "  <tbody>\n",
       "    <tr>\n",
       "      <th>757315</th>\n",
       "      <td>588900</td>\n",
       "      <td>2024-05-27</td>\n",
       "      <td>0.788</td>\n",
       "      <td>0.779</td>\n",
       "      <td>0.011553</td>\n",
       "    </tr>\n",
       "    <tr>\n",
       "      <th>757316</th>\n",
       "      <td>588900</td>\n",
       "      <td>2024-05-28</td>\n",
       "      <td>0.782</td>\n",
       "      <td>0.788</td>\n",
       "      <td>-0.007614</td>\n",
       "    </tr>\n",
       "    <tr>\n",
       "      <th>757317</th>\n",
       "      <td>588900</td>\n",
       "      <td>2024-05-29</td>\n",
       "      <td>0.779</td>\n",
       "      <td>0.782</td>\n",
       "      <td>-0.003836</td>\n",
       "    </tr>\n",
       "    <tr>\n",
       "      <th>757318</th>\n",
       "      <td>588900</td>\n",
       "      <td>2024-05-30</td>\n",
       "      <td>0.785</td>\n",
       "      <td>0.779</td>\n",
       "      <td>0.007702</td>\n",
       "    </tr>\n",
       "    <tr>\n",
       "      <th>757319</th>\n",
       "      <td>588900</td>\n",
       "      <td>2024-05-31</td>\n",
       "      <td>0.790</td>\n",
       "      <td>0.785</td>\n",
       "      <td>0.006369</td>\n",
       "    </tr>\n",
       "  </tbody>\n",
       "</table>\n",
       "</div>"
      ],
      "text/plain": [
       "          code        date  close  close_1  increase_rate\n",
       "757315  588900  2024-05-27  0.788    0.779       0.011553\n",
       "757316  588900  2024-05-28  0.782    0.788      -0.007614\n",
       "757317  588900  2024-05-29  0.779    0.782      -0.003836\n",
       "757318  588900  2024-05-30  0.785    0.779       0.007702\n",
       "757319  588900  2024-05-31  0.790    0.785       0.006369"
      ]
     },
     "execution_count": 14,
     "metadata": {},
     "output_type": "execute_result"
    }
   ],
   "source": [
    "df.tail()"
   ]
  },
  {
   "cell_type": "code",
   "execution_count": 80,
   "metadata": {},
   "outputs": [
    {
     "name": "stdout",
     "output_type": "stream",
     "text": [
      "0.00   -1.000637e+01\n",
      "0.05   -2.224695e+00\n",
      "0.10   -1.444821e+00\n",
      "0.15   -1.067262e+00\n",
      "0.20   -8.020067e-01\n",
      "0.25   -5.741620e-01\n",
      "0.30   -3.959637e-01\n",
      "0.35   -2.604870e-01\n",
      "0.40   -1.172316e-01\n",
      "0.45   -7.991683e-08\n",
      "0.50    1.057104e-01\n",
      "0.55    2.187908e-01\n",
      "0.60    3.390679e-01\n",
      "0.65    4.798501e-01\n",
      "0.70    6.137619e-01\n",
      "0.75    7.649311e-01\n",
      "0.80    9.640109e-01\n",
      "0.85    1.236700e+00\n",
      "0.90    1.545796e+00\n",
      "0.95    2.276626e+00\n",
      "Name: increase_rate, dtype: float64\n"
     ]
    },
    {
     "name": "stderr",
     "output_type": "stream",
     "text": [
      "C:\\Users\\xiaolei.zuo\\AppData\\Local\\Temp\\ipykernel_22632\\2918082854.py:4: SettingWithCopyWarning: \n",
      "A value is trying to be set on a copy of a slice from a DataFrame.\n",
      "Try using .loc[row_indexer,col_indexer] = value instead\n",
      "\n",
      "See the caveats in the documentation: https://pandas.pydata.org/pandas-docs/stable/user_guide/indexing.html#returning-a-view-versus-a-copy\n",
      "  df1[\"increase_rate\"] = df1[\"increase_rate\"]*100\n"
     ]
    }
   ],
   "source": [
    "df1 = df[df.code==\"159941\"]\n",
    "df1[\"increase_rate\"].describe()\n",
    "score = [1-0.05*ele for ele in range(20, 0, -1)]\n",
    "df1[\"increase_rate\"] = df1[\"increase_rate\"]*100\n",
    "res = df1[\"increase_rate\"].quantile(score)\n",
    "df1.index = range(len(df1))\n",
    "print(res)"
   ]
  },
  {
   "cell_type": "code",
   "execution_count": 86,
   "metadata": {},
   "outputs": [
    {
     "data": {
      "text/plain": [
       "0.09999999999999998"
      ]
     },
     "execution_count": 86,
     "metadata": {},
     "output_type": "execute_result"
    }
   ],
   "source": [
    "score[2]"
   ]
  },
  {
   "cell_type": "code",
   "execution_count": 81,
   "metadata": {},
   "outputs": [
    {
     "name": "stdout",
     "output_type": "stream",
     "text": [
      "59.123297679699256\n",
      "0.30319639835743206\n"
     ]
    }
   ],
   "source": [
    "threshold = -1.545796\n",
    "result = []\n",
    "for ele in range(len(df1)):\n",
    "    increase_rate = df1.loc[ele, 'increase_rate']\n",
    "    date = df1.loc[ele, 'date']\n",
    "    if increase_rate<threshold:\n",
    "        next_increase_rate = df1.loc[ele+1, 'increase_rate']\n",
    "        result.append([date, next_increase_rate])\n",
    "print(sum([ele[1] for ele in result]))\n",
    "print(sum([ele[1] for ele in result])/len(result))"
   ]
  },
  {
   "cell_type": "code",
   "execution_count": 59,
   "metadata": {},
   "outputs": [
    {
     "name": "stdout",
     "output_type": "stream",
     "text": [
      "68.29898393410211\n",
      "0.2492663647230004\n"
     ]
    }
   ],
   "source": [
    "len(result)"
   ]
  },
  {
   "cell_type": "code",
   "execution_count": 54,
   "metadata": {},
   "outputs": [
    {
     "name": "stdout",
     "output_type": "stream",
     "text": [
      "68.29898393410211\n",
      "0.2492663647230004\n"
     ]
    }
   ],
   "source": []
  },
  {
   "cell_type": "code",
   "execution_count": 48,
   "metadata": {},
   "outputs": [
    {
     "data": {
      "text/html": [
       "<div>\n",
       "<style scoped>\n",
       "    .dataframe tbody tr th:only-of-type {\n",
       "        vertical-align: middle;\n",
       "    }\n",
       "\n",
       "    .dataframe tbody tr th {\n",
       "        vertical-align: top;\n",
       "    }\n",
       "\n",
       "    .dataframe thead th {\n",
       "        text-align: right;\n",
       "    }\n",
       "</style>\n",
       "<table border=\"1\" class=\"dataframe\">\n",
       "  <thead>\n",
       "    <tr style=\"text-align: right;\">\n",
       "      <th></th>\n",
       "      <th>0</th>\n",
       "      <th>1</th>\n",
       "    </tr>\n",
       "  </thead>\n",
       "  <tbody>\n",
       "    <tr>\n",
       "      <th>264</th>\n",
       "      <td>2022-08-02</td>\n",
       "      <td>-0.651466</td>\n",
       "    </tr>\n",
       "    <tr>\n",
       "      <th>265</th>\n",
       "      <td>2022-09-16</td>\n",
       "      <td>-0.331130</td>\n",
       "    </tr>\n",
       "    <tr>\n",
       "      <th>266</th>\n",
       "      <td>2022-10-10</td>\n",
       "      <td>0.231218</td>\n",
       "    </tr>\n",
       "    <tr>\n",
       "      <th>267</th>\n",
       "      <td>2022-10-24</td>\n",
       "      <td>0.116148</td>\n",
       "    </tr>\n",
       "    <tr>\n",
       "      <th>268</th>\n",
       "      <td>2022-10-28</td>\n",
       "      <td>-0.237252</td>\n",
       "    </tr>\n",
       "    <tr>\n",
       "      <th>269</th>\n",
       "      <td>2022-12-19</td>\n",
       "      <td>-1.001110</td>\n",
       "    </tr>\n",
       "    <tr>\n",
       "      <th>270</th>\n",
       "      <td>2023-04-21</td>\n",
       "      <td>-0.411947</td>\n",
       "    </tr>\n",
       "    <tr>\n",
       "      <th>271</th>\n",
       "      <td>2023-08-11</td>\n",
       "      <td>-0.311207</td>\n",
       "    </tr>\n",
       "    <tr>\n",
       "      <th>272</th>\n",
       "      <td>2023-10-19</td>\n",
       "      <td>-0.763360</td>\n",
       "    </tr>\n",
       "    <tr>\n",
       "      <th>273</th>\n",
       "      <td>2024-01-22</td>\n",
       "      <td>0.470588</td>\n",
       "    </tr>\n",
       "  </tbody>\n",
       "</table>\n",
       "</div>"
      ],
      "text/plain": [
       "              0         1\n",
       "264  2022-08-02 -0.651466\n",
       "265  2022-09-16 -0.331130\n",
       "266  2022-10-10  0.231218\n",
       "267  2022-10-24  0.116148\n",
       "268  2022-10-28 -0.237252\n",
       "269  2022-12-19 -1.001110\n",
       "270  2023-04-21 -0.411947\n",
       "271  2023-08-11 -0.311207\n",
       "272  2023-10-19 -0.763360\n",
       "273  2024-01-22  0.470588"
      ]
     },
     "execution_count": 48,
     "metadata": {},
     "output_type": "execute_result"
    }
   ],
   "source": [
    "pd.DataFrame(result).tail(10)"
   ]
  },
  {
   "cell_type": "code",
   "execution_count": 36,
   "metadata": {},
   "outputs": [
    {
     "data": {
      "text/plain": [
       "-0.6517814597739435"
      ]
     },
     "execution_count": 36,
     "metadata": {},
     "output_type": "execute_result"
    }
   ],
   "source": [
    "pd.DataFrame(result)[1].sum()"
   ]
  },
  {
   "cell_type": "code",
   "execution_count": 37,
   "metadata": {},
   "outputs": [
    {
     "data": {
      "text/plain": [
       "(158, 2)"
      ]
     },
     "execution_count": 37,
     "metadata": {},
     "output_type": "execute_result"
    }
   ],
   "source": [
    "pd.DataFrame(result).shape"
   ]
  },
  {
   "cell_type": "code",
   "execution_count": 90,
   "metadata": {},
   "outputs": [],
   "source": [
    "df[\"increase_rate\"] = df[\"increase_rate\"]*100"
   ]
  },
  {
   "cell_type": "code",
   "execution_count": 96,
   "metadata": {},
   "outputs": [],
   "source": [
    "df1 =df[df.code=='159636']"
   ]
  },
  {
   "cell_type": "code",
   "execution_count": 97,
   "metadata": {},
   "outputs": [
    {
     "data": {
      "text/html": [
       "<div>\n",
       "<style scoped>\n",
       "    .dataframe tbody tr th:only-of-type {\n",
       "        vertical-align: middle;\n",
       "    }\n",
       "\n",
       "    .dataframe tbody tr th {\n",
       "        vertical-align: top;\n",
       "    }\n",
       "\n",
       "    .dataframe thead th {\n",
       "        text-align: right;\n",
       "    }\n",
       "</style>\n",
       "<table border=\"1\" class=\"dataframe\">\n",
       "  <thead>\n",
       "    <tr style=\"text-align: right;\">\n",
       "      <th></th>\n",
       "      <th>code</th>\n",
       "      <th>date</th>\n",
       "      <th>close</th>\n",
       "      <th>close_1</th>\n",
       "      <th>increase_rate</th>\n",
       "    </tr>\n",
       "  </thead>\n",
       "  <tbody>\n",
       "    <tr>\n",
       "      <th>23158</th>\n",
       "      <td>159636</td>\n",
       "      <td>2022-07-21</td>\n",
       "      <td>0.977</td>\n",
       "      <td>0.977</td>\n",
       "      <td>1.952250e-07</td>\n",
       "    </tr>\n",
       "    <tr>\n",
       "      <th>23159</th>\n",
       "      <td>159636</td>\n",
       "      <td>2022-07-22</td>\n",
       "      <td>0.973</td>\n",
       "      <td>0.977</td>\n",
       "      <td>-4.094164e-01</td>\n",
       "    </tr>\n",
       "    <tr>\n",
       "      <th>23160</th>\n",
       "      <td>159636</td>\n",
       "      <td>2022-07-25</td>\n",
       "      <td>0.952</td>\n",
       "      <td>0.973</td>\n",
       "      <td>-2.158272e+00</td>\n",
       "    </tr>\n",
       "    <tr>\n",
       "      <th>23161</th>\n",
       "      <td>159636</td>\n",
       "      <td>2022-07-26</td>\n",
       "      <td>0.972</td>\n",
       "      <td>0.952</td>\n",
       "      <td>2.100838e+00</td>\n",
       "    </tr>\n",
       "    <tr>\n",
       "      <th>23162</th>\n",
       "      <td>159636</td>\n",
       "      <td>2022-07-27</td>\n",
       "      <td>0.955</td>\n",
       "      <td>0.972</td>\n",
       "      <td>-1.748971e+00</td>\n",
       "    </tr>\n",
       "    <tr>\n",
       "      <th>...</th>\n",
       "      <td>...</td>\n",
       "      <td>...</td>\n",
       "      <td>...</td>\n",
       "      <td>...</td>\n",
       "      <td>...</td>\n",
       "    </tr>\n",
       "    <tr>\n",
       "      <th>23604</th>\n",
       "      <td>159636</td>\n",
       "      <td>2024-05-27</td>\n",
       "      <td>0.830</td>\n",
       "      <td>0.817</td>\n",
       "      <td>1.591191e+00</td>\n",
       "    </tr>\n",
       "    <tr>\n",
       "      <th>23605</th>\n",
       "      <td>159636</td>\n",
       "      <td>2024-05-28</td>\n",
       "      <td>0.826</td>\n",
       "      <td>0.830</td>\n",
       "      <td>-4.819257e-01</td>\n",
       "    </tr>\n",
       "    <tr>\n",
       "      <th>23606</th>\n",
       "      <td>159636</td>\n",
       "      <td>2024-05-29</td>\n",
       "      <td>0.807</td>\n",
       "      <td>0.826</td>\n",
       "      <td>-2.300239e+00</td>\n",
       "    </tr>\n",
       "    <tr>\n",
       "      <th>23607</th>\n",
       "      <td>159636</td>\n",
       "      <td>2024-05-30</td>\n",
       "      <td>0.803</td>\n",
       "      <td>0.807</td>\n",
       "      <td>-4.956607e-01</td>\n",
       "    </tr>\n",
       "    <tr>\n",
       "      <th>23608</th>\n",
       "      <td>159636</td>\n",
       "      <td>2024-05-31</td>\n",
       "      <td>0.809</td>\n",
       "      <td>0.803</td>\n",
       "      <td>7.472014e-01</td>\n",
       "    </tr>\n",
       "  </tbody>\n",
       "</table>\n",
       "<p>451 rows × 5 columns</p>\n",
       "</div>"
      ],
      "text/plain": [
       "         code        date  close  close_1  increase_rate\n",
       "23158  159636  2022-07-21  0.977    0.977   1.952250e-07\n",
       "23159  159636  2022-07-22  0.973    0.977  -4.094164e-01\n",
       "23160  159636  2022-07-25  0.952    0.973  -2.158272e+00\n",
       "23161  159636  2022-07-26  0.972    0.952   2.100838e+00\n",
       "23162  159636  2022-07-27  0.955    0.972  -1.748971e+00\n",
       "...       ...         ...    ...      ...            ...\n",
       "23604  159636  2024-05-27  0.830    0.817   1.591191e+00\n",
       "23605  159636  2024-05-28  0.826    0.830  -4.819257e-01\n",
       "23606  159636  2024-05-29  0.807    0.826  -2.300239e+00\n",
       "23607  159636  2024-05-30  0.803    0.807  -4.956607e-01\n",
       "23608  159636  2024-05-31  0.809    0.803   7.472014e-01\n",
       "\n",
       "[451 rows x 5 columns]"
      ]
     },
     "execution_count": 97,
     "metadata": {},
     "output_type": "execute_result"
    }
   ],
   "source": [
    "df1"
   ]
  },
  {
   "cell_type": "code",
   "execution_count": 98,
   "metadata": {},
   "outputs": [],
   "source": [
    "df2 = df1[df1.increase_rate<=-2.57966935249365]"
   ]
  },
  {
   "cell_type": "code",
   "execution_count": 99,
   "metadata": {},
   "outputs": [
    {
     "data": {
      "text/plain": [
       "(43, 5)"
      ]
     },
     "execution_count": 99,
     "metadata": {},
     "output_type": "execute_result"
    }
   ],
   "source": [
    "df2.shape"
   ]
  },
  {
   "cell_type": "code",
   "execution_count": 101,
   "metadata": {},
   "outputs": [
    {
     "data": {
      "text/html": [
       "<div>\n",
       "<style scoped>\n",
       "    .dataframe tbody tr th:only-of-type {\n",
       "        vertical-align: middle;\n",
       "    }\n",
       "\n",
       "    .dataframe tbody tr th {\n",
       "        vertical-align: top;\n",
       "    }\n",
       "\n",
       "    .dataframe thead th {\n",
       "        text-align: right;\n",
       "    }\n",
       "</style>\n",
       "<table border=\"1\" class=\"dataframe\">\n",
       "  <thead>\n",
       "    <tr style=\"text-align: right;\">\n",
       "      <th></th>\n",
       "      <th>code</th>\n",
       "      <th>date</th>\n",
       "      <th>close</th>\n",
       "      <th>close_1</th>\n",
       "      <th>increase_rate</th>\n",
       "    </tr>\n",
       "  </thead>\n",
       "  <tbody>\n",
       "    <tr>\n",
       "      <th>23532</th>\n",
       "      <td>159636</td>\n",
       "      <td>2024-01-31</td>\n",
       "      <td>0.582</td>\n",
       "      <td>0.604</td>\n",
       "      <td>-3.642380</td>\n",
       "    </tr>\n",
       "    <tr>\n",
       "      <th>23534</th>\n",
       "      <td>159636</td>\n",
       "      <td>2024-02-02</td>\n",
       "      <td>0.579</td>\n",
       "      <td>0.597</td>\n",
       "      <td>-3.015076</td>\n",
       "    </tr>\n",
       "    <tr>\n",
       "      <th>23537</th>\n",
       "      <td>159636</td>\n",
       "      <td>2024-02-07</td>\n",
       "      <td>0.610</td>\n",
       "      <td>0.628</td>\n",
       "      <td>-2.866245</td>\n",
       "    </tr>\n",
       "    <tr>\n",
       "      <th>23550</th>\n",
       "      <td>159636</td>\n",
       "      <td>2024-03-05</td>\n",
       "      <td>0.669</td>\n",
       "      <td>0.693</td>\n",
       "      <td>-3.463206</td>\n",
       "    </tr>\n",
       "    <tr>\n",
       "      <th>23552</th>\n",
       "      <td>159636</td>\n",
       "      <td>2024-03-07</td>\n",
       "      <td>0.663</td>\n",
       "      <td>0.683</td>\n",
       "      <td>-2.928262</td>\n",
       "    </tr>\n",
       "    <tr>\n",
       "      <th>23563</th>\n",
       "      <td>159636</td>\n",
       "      <td>2024-03-22</td>\n",
       "      <td>0.699</td>\n",
       "      <td>0.719</td>\n",
       "      <td>-2.781639</td>\n",
       "    </tr>\n",
       "    <tr>\n",
       "      <th>23578</th>\n",
       "      <td>159636</td>\n",
       "      <td>2024-04-16</td>\n",
       "      <td>0.696</td>\n",
       "      <td>0.720</td>\n",
       "      <td>-3.333337</td>\n",
       "    </tr>\n",
       "    <tr>\n",
       "      <th>23581</th>\n",
       "      <td>159636</td>\n",
       "      <td>2024-04-19</td>\n",
       "      <td>0.684</td>\n",
       "      <td>0.703</td>\n",
       "      <td>-2.702704</td>\n",
       "    </tr>\n",
       "    <tr>\n",
       "      <th>23600</th>\n",
       "      <td>159636</td>\n",
       "      <td>2024-05-21</td>\n",
       "      <td>0.842</td>\n",
       "      <td>0.869</td>\n",
       "      <td>-3.107022</td>\n",
       "    </tr>\n",
       "    <tr>\n",
       "      <th>23603</th>\n",
       "      <td>159636</td>\n",
       "      <td>2024-05-24</td>\n",
       "      <td>0.817</td>\n",
       "      <td>0.844</td>\n",
       "      <td>-3.199050</td>\n",
       "    </tr>\n",
       "  </tbody>\n",
       "</table>\n",
       "</div>"
      ],
      "text/plain": [
       "         code        date  close  close_1  increase_rate\n",
       "23532  159636  2024-01-31  0.582    0.604      -3.642380\n",
       "23534  159636  2024-02-02  0.579    0.597      -3.015076\n",
       "23537  159636  2024-02-07  0.610    0.628      -2.866245\n",
       "23550  159636  2024-03-05  0.669    0.693      -3.463206\n",
       "23552  159636  2024-03-07  0.663    0.683      -2.928262\n",
       "23563  159636  2024-03-22  0.699    0.719      -2.781639\n",
       "23578  159636  2024-04-16  0.696    0.720      -3.333337\n",
       "23581  159636  2024-04-19  0.684    0.703      -2.702704\n",
       "23600  159636  2024-05-21  0.842    0.869      -3.107022\n",
       "23603  159636  2024-05-24  0.817    0.844      -3.199050"
      ]
     },
     "execution_count": 101,
     "metadata": {},
     "output_type": "execute_result"
    }
   ],
   "source": [
    "df2.tail(10)"
   ]
  },
  {
   "cell_type": "code",
   "execution_count": 102,
   "metadata": {},
   "outputs": [
    {
     "data": {
      "text/html": [
       "<div>\n",
       "<style scoped>\n",
       "    .dataframe tbody tr th:only-of-type {\n",
       "        vertical-align: middle;\n",
       "    }\n",
       "\n",
       "    .dataframe tbody tr th {\n",
       "        vertical-align: top;\n",
       "    }\n",
       "\n",
       "    .dataframe thead th {\n",
       "        text-align: right;\n",
       "    }\n",
       "</style>\n",
       "<table border=\"1\" class=\"dataframe\">\n",
       "  <thead>\n",
       "    <tr style=\"text-align: right;\">\n",
       "      <th></th>\n",
       "      <th>code</th>\n",
       "      <th>date</th>\n",
       "      <th>close</th>\n",
       "      <th>close_1</th>\n",
       "      <th>increase_rate</th>\n",
       "    </tr>\n",
       "  </thead>\n",
       "  <tbody>\n",
       "    <tr>\n",
       "      <th>23164</th>\n",
       "      <td>159636</td>\n",
       "      <td>2022-07-29</td>\n",
       "      <td>0.912</td>\n",
       "      <td>0.959</td>\n",
       "      <td>-4.900938</td>\n",
       "    </tr>\n",
       "    <tr>\n",
       "      <th>23166</th>\n",
       "      <td>159636</td>\n",
       "      <td>2022-08-02</td>\n",
       "      <td>0.884</td>\n",
       "      <td>0.918</td>\n",
       "      <td>-3.703702</td>\n",
       "    </tr>\n",
       "    <tr>\n",
       "      <th>23172</th>\n",
       "      <td>159636</td>\n",
       "      <td>2022-08-10</td>\n",
       "      <td>0.881</td>\n",
       "      <td>0.916</td>\n",
       "      <td>-3.820962</td>\n",
       "    </tr>\n",
       "    <tr>\n",
       "      <th>23176</th>\n",
       "      <td>159636</td>\n",
       "      <td>2022-08-16</td>\n",
       "      <td>0.889</td>\n",
       "      <td>0.916</td>\n",
       "      <td>-2.947599</td>\n",
       "    </tr>\n",
       "    <tr>\n",
       "      <th>23188</th>\n",
       "      <td>159636</td>\n",
       "      <td>2022-09-01</td>\n",
       "      <td>0.884</td>\n",
       "      <td>0.909</td>\n",
       "      <td>-2.750273</td>\n",
       "    </tr>\n",
       "  </tbody>\n",
       "</table>\n",
       "</div>"
      ],
      "text/plain": [
       "         code        date  close  close_1  increase_rate\n",
       "23164  159636  2022-07-29  0.912    0.959      -4.900938\n",
       "23166  159636  2022-08-02  0.884    0.918      -3.703702\n",
       "23172  159636  2022-08-10  0.881    0.916      -3.820962\n",
       "23176  159636  2022-08-16  0.889    0.916      -2.947599\n",
       "23188  159636  2022-09-01  0.884    0.909      -2.750273"
      ]
     },
     "execution_count": 102,
     "metadata": {},
     "output_type": "execute_result"
    }
   ],
   "source": [
    "df2.head()"
   ]
  },
  {
   "cell_type": "code",
   "execution_count": 1,
   "metadata": {},
   "outputs": [
    {
     "name": "stderr",
     "output_type": "stream",
     "text": [
      "100%|██████████| 100/100 [00:06<00:00, 16.17it/s]\n"
     ]
    }
   ],
   "source": [
    "import pandas as pd\n",
    "from tqdm import tqdm\n",
    "\n",
    "df = pd.read_parquet(\"etf.parquet\")\n",
    "df[\"increase_rate\"] = df[\"close\"]/df[\"close_1\"]-1\n",
    "df[\"increase_rate\"] = df[\"increase_rate\"]*100\n",
    "\n",
    "from src.qtrade.mysql_util import *\n",
    "\n",
    "with get_connection() as cursor:\n",
    "    sql = \"\"\"\n",
    "    select code\n",
    "    from etf.dim_etf_scale\n",
    "    where scale>=10\n",
    "    limit 100\n",
    "    \"\"\"\n",
    "    cursor.execute(sql)\n",
    "    codes = [ele[0] for ele in cursor.fetchall()]\n",
    "\n",
    "all_result = []\n",
    "for code in tqdm(codes):\n",
    "    df1 = df[df.code==code]\n",
    "    df1[\"increase_rate\"].describe()\n",
    "    score = [1-0.05*ele for ele in range(20, 0, -1)]\n",
    "    res = df1[\"increase_rate\"].quantile(score)\n",
    "    df1.index = range(len(df1))\n",
    "    \n",
    "    profit_array = []\n",
    "    ele = 0.9\n",
    "    threshold = -res[ele]\n",
    "    result = []\n",
    "    for ele in range(len(df1)-1):\n",
    "        increase_rate = df1.loc[ele, 'increase_rate']\n",
    "        date = df1.loc[ele, 'date']\n",
    "        if increase_rate<=threshold:\n",
    "            next_increase_rate = df1.loc[ele+1, 'increase_rate']\n",
    "            result.append([date, next_increase_rate])\n",
    "    if result:\n",
    "        profit = sum([ele[1] for ele in result])\n",
    "        avg_profit = sum([ele[1] for ele in result])/len(result)\n",
    "    else:\n",
    "        profit = avg_profit = 0\n",
    "    profit_array.append([threshold, avg_profit])\n",
    "    best_parameter = sorted(profit_array, key=lambda x:x[1], reverse=True)[0]\n",
    "    all_result.append([code, *best_parameter])\n",
    "\n",
    "all_result = pd.DataFrame(all_result, columns=['code', 'threshold', 'avg_profit'])\n",
    "all_result = all_result[all_result.avg_profit>=0.2]\n"
   ]
  },
  {
   "cell_type": "code",
   "execution_count": 7,
   "metadata": {},
   "outputs": [],
   "source": [
    "all_result = all_result.sort_values(by=\"avg_profit\", ascending=False)"
   ]
  },
  {
   "cell_type": "code",
   "execution_count": 8,
   "metadata": {},
   "outputs": [],
   "source": [
    "threshold_dict = dict(all_result[['code', 'threshold']].values.tolist())"
   ]
  },
  {
   "cell_type": "code",
   "execution_count": 9,
   "metadata": {},
   "outputs": [
    {
     "data": {
      "text/plain": [
       "{'159636': -2.579669352493652,\n",
       " '159869': -2.7225752039461835,\n",
       " '159150': -1.5557456401050913,\n",
       " '159632': -1.6314725320989876,\n",
       " '159573': -2.51556445268103,\n",
       " '159993': -1.7687548764421643,\n",
       " '159638': -1.8967462283996255,\n",
       " '159605': -2.9366036121074894,\n",
       " '159607': -2.9982293775920144,\n",
       " '159997': -2.197629676753991,\n",
       " '159941': -1.5457963466834856,\n",
       " '510380': -1.540121355089528,\n",
       " '159513': -1.4113185188465383,\n",
       " '510150': -1.9201621283647177,\n",
       " '159908': -2.248009619731861,\n",
       " '159637': -2.0599140825039646,\n",
       " '159952': -2.0441701478789653,\n",
       " '510210': -1.5930213290095772,\n",
       " '159948': -1.9055861606947389,\n",
       " '159536': -2.099967039232791,\n",
       " '159806': -2.8037406129721445}"
      ]
     },
     "execution_count": 9,
     "metadata": {},
     "output_type": "execute_result"
    }
   ],
   "source": [
    "threshold_dict"
   ]
  },
  {
   "cell_type": "code",
   "execution_count": 5,
   "metadata": {},
   "outputs": [
    {
     "data": {
      "text/html": [
       "<div>\n",
       "<style scoped>\n",
       "    .dataframe tbody tr th:only-of-type {\n",
       "        vertical-align: middle;\n",
       "    }\n",
       "\n",
       "    .dataframe tbody tr th {\n",
       "        vertical-align: top;\n",
       "    }\n",
       "\n",
       "    .dataframe thead th {\n",
       "        text-align: right;\n",
       "    }\n",
       "</style>\n",
       "<table border=\"1\" class=\"dataframe\">\n",
       "  <thead>\n",
       "    <tr style=\"text-align: right;\">\n",
       "      <th></th>\n",
       "      <th>code</th>\n",
       "      <th>date</th>\n",
       "      <th>close</th>\n",
       "      <th>close_1</th>\n",
       "      <th>increase_rate</th>\n",
       "    </tr>\n",
       "  </thead>\n",
       "  <tbody>\n",
       "    <tr>\n",
       "      <th>0</th>\n",
       "      <td>159150</td>\n",
       "      <td>2023-12-11</td>\n",
       "      <td>1.000</td>\n",
       "      <td>NaN</td>\n",
       "      <td>NaN</td>\n",
       "    </tr>\n",
       "    <tr>\n",
       "      <th>1</th>\n",
       "      <td>159150</td>\n",
       "      <td>2023-12-12</td>\n",
       "      <td>1.004</td>\n",
       "      <td>1.000</td>\n",
       "      <td>0.400000</td>\n",
       "    </tr>\n",
       "    <tr>\n",
       "      <th>2</th>\n",
       "      <td>159150</td>\n",
       "      <td>2023-12-13</td>\n",
       "      <td>0.986</td>\n",
       "      <td>1.004</td>\n",
       "      <td>-1.792824</td>\n",
       "    </tr>\n",
       "    <tr>\n",
       "      <th>3</th>\n",
       "      <td>159150</td>\n",
       "      <td>2023-12-14</td>\n",
       "      <td>0.979</td>\n",
       "      <td>0.986</td>\n",
       "      <td>-0.709939</td>\n",
       "    </tr>\n",
       "    <tr>\n",
       "      <th>4</th>\n",
       "      <td>159150</td>\n",
       "      <td>2023-12-15</td>\n",
       "      <td>0.979</td>\n",
       "      <td>0.979</td>\n",
       "      <td>0.000003</td>\n",
       "    </tr>\n",
       "  </tbody>\n",
       "</table>\n",
       "</div>"
      ],
      "text/plain": [
       "     code        date  close  close_1  increase_rate\n",
       "0  159150  2023-12-11  1.000      NaN            NaN\n",
       "1  159150  2023-12-12  1.004    1.000       0.400000\n",
       "2  159150  2023-12-13  0.986    1.004      -1.792824\n",
       "3  159150  2023-12-14  0.979    0.986      -0.709939\n",
       "4  159150  2023-12-15  0.979    0.979       0.000003"
      ]
     },
     "execution_count": 5,
     "metadata": {},
     "output_type": "execute_result"
    }
   ],
   "source": [
    "df.head()"
   ]
  },
  {
   "cell_type": "code",
   "execution_count": 22,
   "metadata": {},
   "outputs": [],
   "source": [
    "df4 = df.loc[df.date>='2023-05-31']"
   ]
  },
  {
   "cell_type": "code",
   "execution_count": 23,
   "metadata": {},
   "outputs": [
    {
     "data": {
      "text/plain": [
       "2.8249801831137233e-06"
      ]
     },
     "execution_count": 23,
     "metadata": {},
     "output_type": "execute_result"
    }
   ],
   "source": [
    "df.loc[(df.date=='2023-12-15')&(df.code=='159150'), 'increase_rate'].tolist()[0]"
   ]
  },
  {
   "cell_type": "code",
   "execution_count": 26,
   "metadata": {},
   "outputs": [],
   "source": [
    "from tqdm import tqdm"
   ]
  },
  {
   "cell_type": "code",
   "execution_count": 36,
   "metadata": {},
   "outputs": [
    {
     "name": "stderr",
     "output_type": "stream",
     "text": [
      "0it [00:00, ?it/s]"
     ]
    },
    {
     "name": "stderr",
     "output_type": "stream",
     "text": [
      "241it [00:03, 61.32it/s]\n"
     ]
    }
   ],
   "source": [
    "dates = df4.date.unique().tolist()\n",
    "dates = sorted(dates)\n",
    "results = []\n",
    "profit = 1\n",
    "for num, date in tqdm(enumerate(dates[:-2])):\n",
    "    select_df = df4[df4.date==date]\n",
    "    increase_rate_dict = dict(select_df[[\"code\", \"increase_rate\"]].values.tolist())\n",
    "    for key in threshold_dict:\n",
    "        if key in increase_rate_dict:\n",
    "            increase_rate = increase_rate_dict[key]\n",
    "            threshold = threshold_dict[key]\n",
    "            if increase_rate<threshold:\n",
    "                next_increase_rate = df4.loc[(df4.date==dates[num+1])&(df4.code==key), 'increase_rate'].tolist()[0]\n",
    "                profit = profit*(1+next_increase_rate/100)\n",
    "                results.append([key, profit])\n",
    "                break"
   ]
  },
  {
   "cell_type": "code",
   "execution_count": null,
   "metadata": {},
   "outputs": [],
   "source": []
  },
  {
   "cell_type": "code",
   "execution_count": 37,
   "metadata": {},
   "outputs": [
    {
     "data": {
      "text/plain": [
       "[['159636', 1.0166880821543307],\n",
       " ['159869', 1.0126375038111124],\n",
       " ['159632', 1.0272759719611766],\n",
       " ['159636', 1.0210197485608363],\n",
       " ['159869', 1.0330651000451228],\n",
       " ['159869', 1.0391599203235065],\n",
       " ['159869', 1.0635152547275069],\n",
       " ['159869', 1.0643777629365891],\n",
       " ['159632', 1.0652054173229886],\n",
       " ['159869', 1.0508953664062992],\n",
       " ['159941', 1.05962166904305],\n",
       " ['159869', 1.0729558060131696],\n",
       " ['159993', 1.0630759519042237],\n",
       " ['510380', 1.065070481130766],\n",
       " ['159869', 1.0350186630588754],\n",
       " ['159869', 1.0526961773590122],\n",
       " ['159636', 1.036326468631629],\n",
       " ['159993', 1.0522852630211943],\n",
       " ['159993', 1.0655024069673347],\n",
       " ['159869', 1.0914434352613755],\n",
       " ['159993', 1.0684876420953076],\n",
       " ['159993', 1.0757917057388293],\n",
       " ['159997', 1.0804792715020226],\n",
       " ['159869', 1.1042478743369033],\n",
       " ['159638', 1.1055863725841197],\n",
       " ['159941', 1.1042826281091653],\n",
       " ['159632', 1.0928711083289175],\n",
       " ['159605', 1.0770532505393942],\n",
       " ['159997', 1.0794126370491248],\n",
       " ['510380', 1.0706724801067813],\n",
       " ['159869', 1.0433315371571252],\n",
       " ['159993', 1.0691725859341916],\n",
       " ['159632', 1.0700635205686329],\n",
       " ['159638', 1.0898272034435368],\n",
       " ['159636', 1.093651134145982],\n",
       " ['159637', 1.0971733743428154],\n",
       " ['159637', 1.1044154315230614],\n",
       " ['159869', 1.0909595412290944],\n",
       " ['159636', 1.0546407612267272],\n",
       " ['159636', 1.0755938957263727],\n",
       " ['159150', 1.0679578320369096],\n",
       " ['159638', 1.063598799777027],\n",
       " ['159869', 1.0911630633878922],\n",
       " ['159513', 1.0976324478852546],\n",
       " ['159636', 1.102168102507703],\n",
       " ['159869', 1.0921483819641595],\n",
       " ['159150', 1.084394791472285],\n",
       " ['159941', 1.0795537099738186],\n",
       " ['159869', 1.0642409037323162],\n",
       " ['159636', 1.064240870479323],\n",
       " ['159638', 1.0515901960399179],\n",
       " ['159636', 1.0675233384088354],\n",
       " ['159636', 1.106745464658535],\n",
       " ['159636', 1.0894255067741068],\n",
       " ['159869', 1.0510981439996128],\n",
       " ['159636', 1.0128131586402278],\n",
       " ['159636', 1.0389165599210157],\n",
       " ['159636', 1.0514768706818327],\n",
       " ['159869', 1.1306058994473545],\n",
       " ['159636', 1.1231920639306645],\n",
       " ['159869', 1.1582918348587032],\n",
       " ['159636', 1.1825310736147374],\n",
       " ['159636', 1.2164196188327856],\n",
       " ['159513', 1.22085915535945],\n",
       " ['159869', 1.2279572383858257],\n",
       " ['159636', 1.2262005024662523],\n",
       " ['159869', 1.1906584973150711],\n",
       " ['159869', 1.1314217615233157],\n",
       " ['159869', 1.1752569707281109],\n",
       " ['159869', 1.1477586107202833],\n",
       " ['159150', 1.14665604736529],\n",
       " ['159869', 1.158841571441987],\n",
       " ['159993', 1.1831529600398645],\n",
       " ['159536', 1.0982443050438453],\n",
       " ['159636', 1.1014002111760386],\n",
       " ['159636', 1.1352151046156425],\n",
       " ['159632', 1.1540698464685166],\n",
       " ['159993', 1.162879545395253],\n",
       " ['159869', 1.1805371639756101],\n",
       " ['159637', 1.1741328599264296],\n",
       " ['159993', 1.1715323478909125],\n",
       " ['159636', 1.1868373915630612],\n",
       " ['159536', 1.1773426924305568],\n",
       " ['159636', 1.1960764606695842],\n",
       " ['159605', 1.1888363240769466]]"
      ]
     },
     "execution_count": 37,
     "metadata": {},
     "output_type": "execute_result"
    }
   ],
   "source": [
    "results"
   ]
  },
  {
   "cell_type": "code",
   "execution_count": 40,
   "metadata": {},
   "outputs": [
    {
     "data": {
      "text/plain": [
       "2"
      ]
     },
     "execution_count": 40,
     "metadata": {},
     "output_type": "execute_result"
    }
   ],
   "source": [
    "len(results[-1])"
   ]
  },
  {
   "cell_type": "code",
   "execution_count": 1,
   "metadata": {},
   "outputs": [],
   "source": [
    "import pandas as pd\n",
    "from tqdm import tqdm\n",
    "\n",
    "df = pd.read_parquet(\"etf.parquet\")"
   ]
  },
  {
   "cell_type": "code",
   "execution_count": 2,
   "metadata": {},
   "outputs": [],
   "source": [
    "df1 = df[df.code=='510210']"
   ]
  },
  {
   "cell_type": "code",
   "execution_count": 3,
   "metadata": {},
   "outputs": [
    {
     "data": {
      "text/plain": [
       "(3154, 4)"
      ]
     },
     "execution_count": 3,
     "metadata": {},
     "output_type": "execute_result"
    }
   ],
   "source": [
    "df1.shape"
   ]
  },
  {
   "cell_type": "code",
   "execution_count": 4,
   "metadata": {},
   "outputs": [
    {
     "data": {
      "text/html": [
       "<div>\n",
       "<style scoped>\n",
       "    .dataframe tbody tr th:only-of-type {\n",
       "        vertical-align: middle;\n",
       "    }\n",
       "\n",
       "    .dataframe tbody tr th {\n",
       "        vertical-align: top;\n",
       "    }\n",
       "\n",
       "    .dataframe thead th {\n",
       "        text-align: right;\n",
       "    }\n",
       "</style>\n",
       "<table border=\"1\" class=\"dataframe\">\n",
       "  <thead>\n",
       "    <tr style=\"text-align: right;\">\n",
       "      <th></th>\n",
       "      <th>code</th>\n",
       "      <th>date</th>\n",
       "      <th>close</th>\n",
       "      <th>close_1</th>\n",
       "    </tr>\n",
       "  </thead>\n",
       "  <tbody>\n",
       "    <tr>\n",
       "      <th>328797</th>\n",
       "      <td>510210</td>\n",
       "      <td>2011-03-25</td>\n",
       "      <td>2.965</td>\n",
       "      <td>NaN</td>\n",
       "    </tr>\n",
       "    <tr>\n",
       "      <th>328798</th>\n",
       "      <td>510210</td>\n",
       "      <td>2011-03-28</td>\n",
       "      <td>2.965</td>\n",
       "      <td>2.965</td>\n",
       "    </tr>\n",
       "    <tr>\n",
       "      <th>328799</th>\n",
       "      <td>510210</td>\n",
       "      <td>2011-03-29</td>\n",
       "      <td>2.936</td>\n",
       "      <td>2.965</td>\n",
       "    </tr>\n",
       "    <tr>\n",
       "      <th>328800</th>\n",
       "      <td>510210</td>\n",
       "      <td>2011-03-30</td>\n",
       "      <td>2.940</td>\n",
       "      <td>2.936</td>\n",
       "    </tr>\n",
       "    <tr>\n",
       "      <th>328801</th>\n",
       "      <td>510210</td>\n",
       "      <td>2011-03-31</td>\n",
       "      <td>2.918</td>\n",
       "      <td>2.940</td>\n",
       "    </tr>\n",
       "  </tbody>\n",
       "</table>\n",
       "</div>"
      ],
      "text/plain": [
       "          code        date  close  close_1\n",
       "328797  510210  2011-03-25  2.965      NaN\n",
       "328798  510210  2011-03-28  2.965    2.965\n",
       "328799  510210  2011-03-29  2.936    2.965\n",
       "328800  510210  2011-03-30  2.940    2.936\n",
       "328801  510210  2011-03-31  2.918    2.940"
      ]
     },
     "execution_count": 4,
     "metadata": {},
     "output_type": "execute_result"
    }
   ],
   "source": [
    "df1.head()"
   ]
  },
  {
   "cell_type": "code",
   "execution_count": 5,
   "metadata": {},
   "outputs": [],
   "source": [
    "import seaborn as sns"
   ]
  },
  {
   "cell_type": "code",
   "execution_count": 7,
   "metadata": {},
   "outputs": [
    {
     "data": {
      "text/plain": [
       "<seaborn.axisgrid.FacetGrid at 0x192ea764d10>"
      ]
     },
     "execution_count": 7,
     "metadata": {},
     "output_type": "execute_result"
    },
    {
     "data": {
      "image/png": "[encoded data removed]",
      "text/plain": [
       "<Figure size 500x500 with 1 Axes>"
      ]
     },
     "metadata": {},
     "output_type": "display_data"
    }
   ],
   "source": [
    "sns.displot(df1['close'], kind=\"hist\")"
   ]
  },
  {
   "cell_type": "code",
   "execution_count": 8,
   "metadata": {},
   "outputs": [
    {
     "data": {
      "text/plain": [
       "3.6117289156626504"
      ]
     },
     "execution_count": 8,
     "metadata": {},
     "output_type": "execute_result"
    }
   ],
   "source": [
    "df1.close.mean()"
   ]
  },
  {
   "cell_type": "code",
   "execution_count": null,
   "metadata": {},
   "outputs": [],
   "source": []
  }
 ],
 "metadata": {
  "kernelspec": {
   "display_name": "base",
   "language": "python",
   "name": "python3"
  },
  "language_info": {
   "codemirror_mode": {
    "name": "ipython",
    "version": 3
   },
   "file_extension": ".py",
   "mimetype": "text/x-python",
   "name": "python",
   "nbconvert_exporter": "python",
   "pygments_lexer": "ipython3",
   "version": "3.11.4"
  }
 },
 "nbformat": 4,
 "nbformat_minor": 2
}
